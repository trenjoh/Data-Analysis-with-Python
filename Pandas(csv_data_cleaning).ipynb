{
  "nbformat": 4,
  "nbformat_minor": 0,
  "metadata": {
    "colab": {
      "provenance": [],
      "mount_file_id": "1NZZRZVanON7ELZEneymONxYDUoRet87U",
      "authorship_tag": "ABX9TyPm/saTZGjQlATFtYevFs6W",
      "include_colab_link": true
    },
    "kernelspec": {
      "name": "python3",
      "display_name": "Python 3"
    },
    "language_info": {
      "name": "python"
    }
  },
  "cells": [
    {
      "cell_type": "markdown",
      "metadata": {
        "id": "view-in-github",
        "colab_type": "text"
      },
      "source": [
        "<a href=\"https://colab.research.google.com/github/trenjoh/Data-Alysis-with-Python/blob/main/Pandas(csv_data_cleaning).ipynb\" target=\"_parent\"><img src=\"https://colab.research.google.com/assets/colab-badge.svg\" alt=\"Open In Colab\"/></a>"
      ]
    },
    {
      "cell_type": "code",
      "source": [
        "from google.colab import drive\n",
        "drive.mount('/content/drive')"
      ],
      "metadata": {
        "colab": {
          "base_uri": "https://localhost:8080/"
        },
        "id": "HKoikkj_Jxei",
        "outputId": "8055efd8-2393-4ca7-c530-dcd808f036ca"
      },
      "execution_count": null,
      "outputs": [
        {
          "output_type": "stream",
          "name": "stdout",
          "text": [
            "Drive already mounted at /content/drive; to attempt to forcibly remount, call drive.mount(\"/content/drive\", force_remount=True).\n"
          ]
        }
      ]
    },
    {
      "cell_type": "code",
      "source": [
        "import pandas as pd\n",
        "import numpy as np\n"
      ],
      "metadata": {
        "id": "sTWouCL9JT6o"
      },
      "execution_count": null,
      "outputs": []
    },
    {
      "cell_type": "code",
      "source": [
        "df = pd.read_csv('/content/drive/My Drive/Colab Notebooks/weather_data.csv',header=0)\n",
        "\n"
      ],
      "metadata": {
        "id": "kDhBn0VDLCm0"
      },
      "execution_count": null,
      "outputs": []
    },
    {
      "cell_type": "markdown",
      "source": [
        "# **DATA CLEANING**\n",
        "\n",
        "---\n",
        "\n",
        "\n",
        "\n",
        "---\n",
        "\n",
        "\n",
        "\n",
        "1.   Removing unwanted columns\n",
        "2.   Adding other neeeded columns(concatenating..)\n",
        "3. Adding missing elements\n",
        "4. Modifying columns' title to make them more readable\n",
        "\n",
        "\n",
        "\n"
      ],
      "metadata": {
        "id": "ZF_T3vzwVuel"
      }
    },
    {
      "cell_type": "code",
      "source": [
        "#removing column for Results,Unnamed,0\n",
        "# df = df.drop(['Unnamed: 0'], axis=1)\n",
        "df = df.drop(['Results'], axis=1)\n",
        "print(df)"
      ],
      "metadata": {
        "colab": {
          "base_uri": "https://localhost:8080/"
        },
        "id": "4SMBDnHDLf9x",
        "outputId": "264187b3-339a-4b73-d8d0-0c8e0918146f"
      },
      "execution_count": null,
      "outputs": [
        {
          "output_type": "stream",
          "name": "stdout",
          "text": [
            "    Unnamed: 0   Min   Max\n",
            "0            0  14.0  22.0\n",
            "1            1  22.0  29.0\n",
            "2            2  20.0  26.0\n",
            "3            3  14.0  20.0\n",
            "4            4  16.0  23.0\n",
            "5            5  15.0  21.0\n",
            "6            6  16.0  25.0\n",
            "7            7  17.0  25.0\n",
            "8            8  23.0  33.0\n",
            "9            9  25.0  30.0\n",
            "10          10  27.0  33.0\n",
            "11          11  16.0  28.0\n",
            "12          12  24.0  28.0\n",
            "13          13  25.0  34.0\n",
            "14          14  20.0  25.0\n",
            "15          15  20.0  30.0\n",
            "16          16  25.0  32.0\n",
            "17          17  16.0  21.0\n",
            "18          18  14.0  22.0\n",
            "19          19  13.0  21.0\n",
            "20          20  14.0  23.0\n",
            "21          21  17.0  23.0\n",
            "22          22  17.0  25.0\n",
            "23          23  14.0  23.0\n"
          ]
        }
      ]
    },
    {
      "cell_type": "code",
      "source": [
        "# Adding  a conditional columnsto the existing csv file\n",
        "\n",
        "def categorize_temperature(max_temp):\n",
        "  if max_temp < 22:\n",
        "    return 'cold'\n",
        "  elif max_temp >= 22 and max_temp < 29:\n",
        "    return 'warm'\n",
        "  elif max_temp >= 29 and max_temp < 35:\n",
        "    return 'very warm'\n",
        "  elif max_temp >= 35:\n",
        "    return 'EXTREME'\n",
        "  else:\n",
        "    return 'Null'\n",
        "\n",
        "df['Temperature Category'] = df['Max'].apply(categorize_temperature)\n",
        "print(df)\n"
      ],
      "metadata": {
        "colab": {
          "base_uri": "https://localhost:8080/"
        },
        "id": "TAYTHH5QMXQs",
        "outputId": "848f2620-9502-47c6-a2a9-ee01634a5a0e"
      },
      "execution_count": null,
      "outputs": [
        {
          "output_type": "stream",
          "name": "stdout",
          "text": [
            "    Unnamed: 0   Min   Max Temperature Category\n",
            "0            0  14.0  22.0                 warm\n",
            "1            1  22.0  29.0            very warm\n",
            "2            2  20.0  26.0                 warm\n",
            "3            3  14.0  20.0                 cold\n",
            "4            4  16.0  23.0                 warm\n",
            "5            5  15.0  21.0                 cold\n",
            "6            6  16.0  25.0                 warm\n",
            "7            7  17.0  25.0                 warm\n",
            "8            8  23.0  33.0            very warm\n",
            "9            9  25.0  30.0            very warm\n",
            "10          10  27.0  33.0            very warm\n",
            "11          11  16.0  28.0                 warm\n",
            "12          12  24.0  28.0                 warm\n",
            "13          13  25.0  34.0            very warm\n",
            "14          14  20.0  25.0                 warm\n",
            "15          15  20.0  30.0            very warm\n",
            "16          16  25.0  32.0            very warm\n",
            "17          17  16.0  21.0                 cold\n",
            "18          18  14.0  22.0                 warm\n",
            "19          19  13.0  21.0                 cold\n",
            "20          20  14.0  23.0                 warm\n",
            "21          21  17.0  23.0                 warm\n",
            "22          22  17.0  25.0                 warm\n",
            "23          23  14.0  23.0                 warm\n"
          ]
        }
      ]
    },
    {
      "cell_type": "code",
      "source": [
        "towns = np.array(['Nairobi', 'Mombasa', 'Kisumu', 'Nakuru', 'Eldoret', 'Thika', 'Nyeri', 'Machakos', 'Meru', 'Embu', 'Kericho', 'Naivasha', 'Kitale', 'Malindi', 'Garissa', 'Kakamega', 'Nanyuki', 'Isiolo', 'Lamu', 'Kilifi', 'Voi', 'Narok', 'Bungoma','mukima'])\n"
      ],
      "metadata": {
        "id": "eKaW_dQyPL3b"
      },
      "execution_count": null,
      "outputs": []
    },
    {
      "cell_type": "code",
      "source": [
        "# Creating a DataFrame with the towns\n",
        "towns_df = pd.DataFrame({'Town': towns})\n",
        "# Concatenate the DataFrames with 'Town' as the first column\n",
        "df_upt = pd.concat([towns_df, df], axis=1)\n",
        "print(df_upt)\n"
      ],
      "metadata": {
        "colab": {
          "base_uri": "https://localhost:8080/"
        },
        "id": "2zAuABg1PveK",
        "outputId": "a6c06d87-aa45-40b8-bdc3-37c84c045bd8"
      },
      "execution_count": null,
      "outputs": [
        {
          "output_type": "stream",
          "name": "stdout",
          "text": [
            "        Town  Unnamed: 0   Min   Max Temperature Category\n",
            "0    Nairobi           0  14.0  22.0                 warm\n",
            "1    Mombasa           1  22.0  29.0            very warm\n",
            "2     Kisumu           2  20.0  26.0                 warm\n",
            "3     Nakuru           3  14.0  20.0                 cold\n",
            "4    Eldoret           4  16.0  23.0                 warm\n",
            "5      Thika           5  15.0  21.0                 cold\n",
            "6      Nyeri           6  16.0  25.0                 warm\n",
            "7   Machakos           7  17.0  25.0                 warm\n",
            "8       Meru           8  23.0  33.0            very warm\n",
            "9       Embu           9  25.0  30.0            very warm\n",
            "10   Kericho          10  27.0  33.0            very warm\n",
            "11  Naivasha          11  16.0  28.0                 warm\n",
            "12    Kitale          12  24.0  28.0                 warm\n",
            "13   Malindi          13  25.0  34.0            very warm\n",
            "14   Garissa          14  20.0  25.0                 warm\n",
            "15  Kakamega          15  20.0  30.0            very warm\n",
            "16   Nanyuki          16  25.0  32.0            very warm\n",
            "17    Isiolo          17  16.0  21.0                 cold\n",
            "18      Lamu          18  14.0  22.0                 warm\n",
            "19    Kilifi          19  13.0  21.0                 cold\n",
            "20       Voi          20  14.0  23.0                 warm\n",
            "21     Narok          21  17.0  23.0                 warm\n",
            "22   Bungoma          22  17.0  25.0                 warm\n",
            "23    mukima          23  14.0  23.0                 warm\n"
          ]
        }
      ]
    },
    {
      "cell_type": "code",
      "source": [
        "# modifying the titles of colums\n",
        "df_upt = df_upt.rename(columns={'Max': 'Max_temp', 'Min': 'Min_temp(°C)'})\n",
        "print(df_upt)\n"
      ],
      "metadata": {
        "colab": {
          "base_uri": "https://localhost:8080/"
        },
        "id": "Znz7yPWdUW8e",
        "outputId": "8783ba73-e22f-4789-805b-43958a7c7fe8"
      },
      "execution_count": null,
      "outputs": [
        {
          "output_type": "stream",
          "name": "stdout",
          "text": [
            "        Town  Unnamed: 0  Min_temp(°C)  Max_temp Temperature Category\n",
            "0    Nairobi           0          14.0      22.0                 warm\n",
            "1    Mombasa           1          22.0      29.0            very warm\n",
            "2     Kisumu           2          20.0      26.0                 warm\n",
            "3     Nakuru           3          14.0      20.0                 cold\n",
            "4    Eldoret           4          16.0      23.0                 warm\n",
            "5      Thika           5          15.0      21.0                 cold\n",
            "6      Nyeri           6          16.0      25.0                 warm\n",
            "7   Machakos           7          17.0      25.0                 warm\n",
            "8       Meru           8          23.0      33.0            very warm\n",
            "9       Embu           9          25.0      30.0            very warm\n",
            "10   Kericho          10          27.0      33.0            very warm\n",
            "11  Naivasha          11          16.0      28.0                 warm\n",
            "12    Kitale          12          24.0      28.0                 warm\n",
            "13   Malindi          13          25.0      34.0            very warm\n",
            "14   Garissa          14          20.0      25.0                 warm\n",
            "15  Kakamega          15          20.0      30.0            very warm\n",
            "16   Nanyuki          16          25.0      32.0            very warm\n",
            "17    Isiolo          17          16.0      21.0                 cold\n",
            "18      Lamu          18          14.0      22.0                 warm\n",
            "19    Kilifi          19          13.0      21.0                 cold\n",
            "20       Voi          20          14.0      23.0                 warm\n",
            "21     Narok          21          17.0      23.0                 warm\n",
            "22   Bungoma          22          17.0      25.0                 warm\n",
            "23    mukima          23          14.0      23.0                 warm\n"
          ]
        }
      ]
    },
    {
      "cell_type": "code",
      "source": [
        "\n",
        "df_upt = df_upt.rename(columns={'Min_temp(°C)': 'Min_temp(°C)', 'Max_temp': 'Max_temp(°C)'})\n",
        "\n"
      ],
      "metadata": {
        "id": "izLXBZQHdSjs"
      },
      "execution_count": null,
      "outputs": []
    },
    {
      "cell_type": "code",
      "source": [
        "\n",
        "import pandas as pd\n",
        "# Save the updated DataFrame to a new CSV file\n",
        "df_upt.to_csv('/content/drive/My Drive/Colab Notebooks/weather_data_updated.csv', index=False)\n",
        "\n",
        "# Check if the changes were successfully committed by reading the new CSV file\n",
        "df_updated = pd.read_csv('/content/drive/My Drive/Colab Notebooks/weather_data_updated.csv')\n",
        "\n",
        "# Compare the original DataFrame with the updated DataFrame\n",
        "if df_updated.equals(df_upt):\n",
        "  print(\"Changes have been successfully committed.\")\n",
        "else:\n",
        "  print(\"Error committing changes.\")\n",
        "\n",
        "# print(df_updated)\n"
      ],
      "metadata": {
        "colab": {
          "base_uri": "https://localhost:8080/"
        },
        "id": "HdqHogt1P4xj",
        "outputId": "05d26c8b-df60-4e47-f3df-65b911ac9c64"
      },
      "execution_count": null,
      "outputs": [
        {
          "output_type": "stream",
          "name": "stdout",
          "text": [
            "Changes have been successfully committed.\n"
          ]
        }
      ]
    },
    {
      "cell_type": "code",
      "source": [
        "\n",
        "\n",
        "import pandas as pd\n",
        "if 'Unnamed: 0' in df_upt.columns:\n",
        "  df_upt = df_upt.drop(['Unnamed: 0'], axis=1)\n",
        "\n",
        "Save the updated DataFrame to a new CSV file\n",
        "df_upt.to_csv('/content/drive/My Drive/Colab Notebooks/weather_data_updated.csv', index=False)\n",
        "\n",
        "# Checking if the changes were successfully committed by reading the new CSV file\n",
        "df_updated = pd.read_csv('/content/drive/My Drive/Colab Notebooks/weather_data_updated.csv')\n",
        "\n",
        "# Comparing if  the original DataFrame with the updated DataFrame\n",
        "if df_updated.equals(df_upt):\n",
        "  print(\"Changes have been successfully committed.\")\n",
        "else:\n",
        "  print(\"Error committing changes.\")\n",
        "\n",
        "print(df_updated)\n"
      ],
      "metadata": {
        "colab": {
          "base_uri": "https://localhost:8080/"
        },
        "id": "cD5rv-O6RPun",
        "outputId": "6bdd4367-004c-4913-9941-2f86669a8035"
      },
      "execution_count": null,
      "outputs": [
        {
          "output_type": "stream",
          "name": "stdout",
          "text": [
            "Changes have been successfully committed.\n",
            "        Town  Min_temp(°C)  Max_temp(°C) Temperature Category\n",
            "0    Nairobi          14.0          22.0                 warm\n",
            "1    Mombasa          22.0          29.0            very warm\n",
            "2     Kisumu          20.0          26.0                 warm\n",
            "3     Nakuru          14.0          20.0                 cold\n",
            "4    Eldoret          16.0          23.0                 warm\n",
            "5      Thika          15.0          21.0                 cold\n",
            "6      Nyeri          16.0          25.0                 warm\n",
            "7   Machakos          17.0          25.0                 warm\n",
            "8       Meru          23.0          33.0            very warm\n",
            "9       Embu          25.0          30.0            very warm\n",
            "10   Kericho          27.0          33.0            very warm\n",
            "11  Naivasha          16.0          28.0                 warm\n",
            "12    Kitale          24.0          28.0                 warm\n",
            "13   Malindi          25.0          34.0            very warm\n",
            "14   Garissa          20.0          25.0                 warm\n",
            "15  Kakamega          20.0          30.0            very warm\n",
            "16   Nanyuki          25.0          32.0            very warm\n",
            "17    Isiolo          16.0          21.0                 cold\n",
            "18      Lamu          14.0          22.0                 warm\n",
            "19    Kilifi          13.0          21.0                 cold\n",
            "20       Voi          14.0          23.0                 warm\n",
            "21     Narok          17.0          23.0                 warm\n",
            "22   Bungoma          17.0          25.0                 warm\n",
            "23    mukima          14.0          23.0                 warm\n"
          ]
        }
      ]
    }
  ]
}